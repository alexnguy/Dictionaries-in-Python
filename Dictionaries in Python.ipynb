{
    "cells": [
        {
            "cell_type": "markdown",
            "metadata": {
                "collapsed": true
            },
            "source": "# Dictionaries"
        },
        {
            "cell_type": "markdown",
            "metadata": {},
            "source": "Dictionaries are similar to lists, instead of being called indexes, the term key is used. For dictionaries, keys and values are used. "
        },
        {
            "cell_type": "code",
            "execution_count": 4,
            "metadata": {},
            "outputs": [
                {
                    "data": {
                        "text/plain": "{'key1': 1,\n 'key2': '2',\n 'key3': [9, 9, 9],\n 'key4': (4, 4, 4),\n 'key5': 5,\n (0, 192): 8}"
                    },
                    "execution_count": 4,
                    "metadata": {},
                    "output_type": "execute_result"
                }
            ],
            "source": "# Let us create an example dictionary list\n\nDict = {\"key1\": 1, \"key2\": \"2\", \"key3\": [9, 9, 9], \"key4\": (4, 4, 4), 'key5': 5, (0, 192): 8}\nDict"
        },
        {
            "cell_type": "code",
            "execution_count": 6,
            "metadata": {},
            "outputs": [
                {
                    "data": {
                        "text/plain": "1"
                    },
                    "execution_count": 6,
                    "metadata": {},
                    "output_type": "execute_result"
                }
            ],
            "source": "# The keys can be strings, so we can access the value by using the key\n\nDict[\"key1\"]"
        },
        {
            "cell_type": "code",
            "execution_count": 7,
            "metadata": {},
            "outputs": [
                {
                    "ename": "KeyError",
                    "evalue": "(0, 1)",
                    "output_type": "error",
                    "traceback": [
                        "\u001b[0;31m---------------------------------------------------------------------------\u001b[0m",
                        "\u001b[0;31mKeyError\u001b[0m                                  Traceback (most recent call last)",
                        "\u001b[0;32m/tmp/wsuser/ipykernel_415/81469622.py\u001b[0m in \u001b[0;36m<module>\u001b[0;34m\u001b[0m\n\u001b[1;32m      1\u001b[0m \u001b[0;31m# Keys can be immutable like a tuple\u001b[0m\u001b[0;34m\u001b[0m\u001b[0;34m\u001b[0m\u001b[0m\n\u001b[1;32m      2\u001b[0m \u001b[0;34m\u001b[0m\u001b[0m\n\u001b[0;32m----> 3\u001b[0;31m \u001b[0mDict\u001b[0m\u001b[0;34m[\u001b[0m\u001b[0;34m(\u001b[0m\u001b[0;36m0\u001b[0m\u001b[0;34m,\u001b[0m\u001b[0;36m1\u001b[0m\u001b[0;34m)\u001b[0m\u001b[0;34m]\u001b[0m\u001b[0;34m\u001b[0m\u001b[0;34m\u001b[0m\u001b[0m\n\u001b[0m",
                        "\u001b[0;31mKeyError\u001b[0m: (0, 1)"
                    ]
                }
            ],
            "source": "# Keys can be immutable like a tuple\n\nDict[(0,1)]"
        },
        {
            "cell_type": "code",
            "execution_count": 8,
            "metadata": {},
            "outputs": [
                {
                    "data": {
                        "text/plain": "{'Shape of You': '3070',\n 'Blinding Lights': '2843',\n 'Dance Monkey': '2507',\n 'Rockstar': '2375',\n 'Someone you loved': '2284'}"
                    },
                    "execution_count": 8,
                    "metadata": {},
                    "output_type": "execute_result"
                }
            ],
            "source": "# Sample dictionary based on song streams in terms of billions\n\nsong_streams_dict = {\"Shape of You\":\"3070\", \"Blinding Lights\": \"2843\", \"Dance Monkey\": \"2507\", \"Rockstar\": \"2375\", \"Someone you loved\":\"2284\"}\nsong_streams_dict"
        },
        {
            "cell_type": "code",
            "execution_count": null,
            "metadata": {},
            "outputs": [],
            "source": "# You can retrieve the values based on the name"
        },
        {
            "cell_type": "code",
            "execution_count": 9,
            "metadata": {},
            "outputs": [
                {
                    "data": {
                        "text/plain": "'3070'"
                    },
                    "execution_count": 9,
                    "metadata": {},
                    "output_type": "execute_result"
                }
            ],
            "source": "song_streams_dict[\"Shape of You\"]"
        },
        {
            "cell_type": "code",
            "execution_count": 10,
            "metadata": {},
            "outputs": [
                {
                    "data": {
                        "text/plain": "dict_keys(['Shape of You', 'Blinding Lights', 'Dance Monkey', 'Rockstar', 'Someone you loved'])"
                    },
                    "execution_count": 10,
                    "metadata": {},
                    "output_type": "execute_result"
                }
            ],
            "source": "# Get all the keys in dictionary\n\nsong_streams_dict.keys()"
        },
        {
            "cell_type": "code",
            "execution_count": 11,
            "metadata": {},
            "outputs": [
                {
                    "data": {
                        "text/plain": "dict_values(['3070', '2843', '2507', '2375', '2284'])"
                    },
                    "execution_count": 11,
                    "metadata": {},
                    "output_type": "execute_result"
                }
            ],
            "source": "# Similarly, we can get all the values in the dictionary\n\nsong_streams_dict.values()"
        },
        {
            "cell_type": "code",
            "execution_count": 13,
            "metadata": {},
            "outputs": [
                {
                    "data": {
                        "text/plain": "{'Shape of You': '3070',\n 'Blinding Lights': '2843',\n 'Dance Monkey': '2507',\n 'Rockstar': '2375',\n 'Someone you loved': '2284',\n 'One Dance': 2253}"
                    },
                    "execution_count": 13,
                    "metadata": {},
                    "output_type": "execute_result"
                }
            ],
            "source": "# We can add an entry via appending \n\nsong_streams_dict[\"One Dance\"]= 2253\nsong_streams_dict"
        },
        {
            "cell_type": "code",
            "execution_count": 14,
            "metadata": {},
            "outputs": [
                {
                    "data": {
                        "text/plain": "{'Shape of You': '3070',\n 'Rockstar': '2375',\n 'Someone you loved': '2284',\n 'One Dance': 2253}"
                    },
                    "execution_count": 14,
                    "metadata": {},
                    "output_type": "execute_result"
                }
            ],
            "source": "# We can also delete an entry\ndel(song_streams_dict[\"Dance Monkey\"])\ndel(song_streams_dict[\"Blinding Lights\"])\nsong_streams_dict"
        },
        {
            "cell_type": "code",
            "execution_count": 15,
            "metadata": {},
            "outputs": [
                {
                    "data": {
                        "text/plain": "True"
                    },
                    "execution_count": 15,
                    "metadata": {},
                    "output_type": "execute_result"
                }
            ],
            "source": "# We can also verify an element\n\n\"One Dance\" in song_streams_dict"
        }
    ],
    "metadata": {
        "kernelspec": {
            "display_name": "Python 3.9",
            "language": "python",
            "name": "python3"
        },
        "language_info": {
            "codemirror_mode": {
                "name": "ipython",
                "version": 3
            },
            "file_extension": ".py",
            "mimetype": "text/x-python",
            "name": "python",
            "nbconvert_exporter": "python",
            "pygments_lexer": "ipython3",
            "version": "3.9.7"
        }
    },
    "nbformat": 4,
    "nbformat_minor": 1
}